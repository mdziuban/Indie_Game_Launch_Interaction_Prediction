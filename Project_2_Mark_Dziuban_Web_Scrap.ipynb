{
 "cells": [
  {
   "cell_type": "markdown",
   "metadata": {},
   "source": [
    "# Project 2 Web Scrapping Tool\n",
    "\n",
    "This notebook is dedicated to scrapping the data needed for my Metis project 2.  The project is to determine the best launch day sale price based on various factors.  One of those factors that will be included is the size of the game. The inital data set that was downloaded from Kaggle did not have the information for game size.  To acquire this I will be scraping the Steam.com page for each game.\n",
    "\n"
   ]
  },
  {
   "cell_type": "code",
   "execution_count": 152,
   "metadata": {},
   "outputs": [],
   "source": [
    "from bs4 import BeautifulSoup\n",
    "import requests\n",
    "import re\n",
    "from urllib.request import Request, urlopen"
   ]
  },
  {
   "cell_type": "code",
   "execution_count": 153,
   "metadata": {},
   "outputs": [],
   "source": [
    "url= 'https://learn.g2.com/video-game-publishers'\n",
    "response = requests.get(url)\n",
    "page = response.text\n",
    "soup = BeautifulSoup(page, \"lxml\")"
   ]
  },
  {
   "cell_type": "code",
   "execution_count": 158,
   "metadata": {},
   "outputs": [],
   "source": [
    "def top_pubs(soup):\n",
    "    pubs = []\n",
    "    for span in soup.find_all('span', id = 'hs_cos_wrapper_post_body'):\n",
    "        for head in span.find_all('h3'):\n",
    "            pubs.append(head.text)      \n",
    "    return pubs[:-2]\n",
    "\n"
   ]
  },
  {
   "cell_type": "code",
   "execution_count": 159,
   "metadata": {},
   "outputs": [
    {
     "name": "stdout",
     "output_type": "stream",
     "text": [
      "Tencent Games\n",
      "Sony Interactive Entertainment\n",
      "Microsoft\n",
      "Activision Blizzard\n",
      "Electronic Arts (EA)\n",
      "Nintendo\n",
      "Bandai Namco\n",
      "Take-Two Interactive\n",
      "Ubisoft\n",
      "Square Enix\n",
      "Konami Games\n",
      "Sega\n",
      "Capcom\n"
     ]
    }
   ],
   "source": [
    "publishers = top_pubs(soup)\n",
    "for publisher in publishers:\n",
    "    print(publisher)"
   ]
  },
  {
   "cell_type": "code",
   "execution_count": null,
   "metadata": {},
   "outputs": [],
   "source": []
  }
 ],
 "metadata": {
  "kernelspec": {
   "display_name": "Python [conda env:metis] *",
   "language": "python",
   "name": "conda-env-metis-py"
  },
  "language_info": {
   "codemirror_mode": {
    "name": "ipython",
    "version": 3
   },
   "file_extension": ".py",
   "mimetype": "text/x-python",
   "name": "python",
   "nbconvert_exporter": "python",
   "pygments_lexer": "ipython3",
   "version": "3.7.4"
  }
 },
 "nbformat": 4,
 "nbformat_minor": 2
}
