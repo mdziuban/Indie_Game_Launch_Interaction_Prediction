{
 "cells": [
  {
   "cell_type": "markdown",
   "metadata": {},
   "source": [
    "# Determine the Expected Interactions 2 years after launching an Indie Game\n",
    "\n",
    "## Project 2 Metis "
   ]
  },
  {
   "cell_type": "markdown",
   "metadata": {},
   "source": [
    "### Data Cleaning Notebook  \n",
    "\n"
   ]
  },
  {
   "cell_type": "code",
   "execution_count": 131,
   "metadata": {},
   "outputs": [],
   "source": [
    "import numpy as np\n",
    "import pandas as pd\n",
    "import datetime as dt\n",
    "from ast import literal_eval\n",
    "\n",
    "import md_proj2 as md  #code for this project outside the notebook\n"
   ]
  },
  {
   "cell_type": "markdown",
   "metadata": {},
   "source": [
    "Import the data and check to make sure the data is valid in the stored raw_merged_steam_df.csv"
   ]
  },
  {
   "cell_type": "code",
   "execution_count": 132,
   "metadata": {},
   "outputs": [
    {
     "name": "stdout",
     "output_type": "stream",
     "text": [
      "<class 'pandas.core.frame.DataFrame'>\n",
      "RangeIndex: 29233 entries, 0 to 29232\n",
      "Data columns (total 59 columns):\n",
      "Unnamed: 0                 29233 non-null int64\n",
      "appid                      29233 non-null int64\n",
      "name_x                     29228 non-null object\n",
      "developer                  29036 non-null object\n",
      "publisher                  28953 non-null object\n",
      "score_rank                 58 non-null float64\n",
      "positive                   29233 non-null int64\n",
      "negative                   29233 non-null int64\n",
      "userscore                  29233 non-null int64\n",
      "owners                     29233 non-null object\n",
      "average_forever            29233 non-null int64\n",
      "average_2weeks             29233 non-null int64\n",
      "median_forever             29233 non-null int64\n",
      "median_2weeks              29233 non-null int64\n",
      "price                      29204 non-null float64\n",
      "initialprice               29211 non-null float64\n",
      "discount                   29211 non-null float64\n",
      "languages                  29139 non-null object\n",
      "genre                      29081 non-null object\n",
      "ccu                        29233 non-null int64\n",
      "tags                       29233 non-null object\n",
      "type                       29084 non-null object\n",
      "name_y                     29232 non-null object\n",
      "required_age               29084 non-null float64\n",
      "is_free                    29084 non-null object\n",
      "controller_support         5998 non-null object\n",
      "dlc                        4975 non-null object\n",
      "detailed_description       29058 non-null object\n",
      "about_the_game             29058 non-null object\n",
      "short_description          29058 non-null object\n",
      "fullgame                   0 non-null float64\n",
      "supported_languages        29070 non-null object\n",
      "header_image               29084 non-null object\n",
      "website                    19250 non-null object\n",
      "pc_requirements            29084 non-null object\n",
      "mac_requirements           29084 non-null object\n",
      "linux_requirements         29084 non-null object\n",
      "legal_notice               10067 non-null object\n",
      "drm_notice                 158 non-null object\n",
      "ext_user_account_notice    512 non-null object\n",
      "developers                 28969 non-null object\n",
      "publishers                 29084 non-null object\n",
      "demos                      2139 non-null object\n",
      "price_overview             25521 non-null object\n",
      "packages                   25863 non-null object\n",
      "package_groups             29084 non-null object\n",
      "platforms                  29084 non-null object\n",
      "metacritic                 2981 non-null object\n",
      "reviews                    5905 non-null object\n",
      "categories                 28519 non-null object\n",
      "genres                     29037 non-null object\n",
      "screenshots                29056 non-null object\n",
      "movies                     27157 non-null object\n",
      "recommendations            6728 non-null object\n",
      "achievements               26852 non-null object\n",
      "release_date               29084 non-null object\n",
      "support_info               29084 non-null object\n",
      "background                 29056 non-null object\n",
      "content_descriptors        29084 non-null object\n",
      "dtypes: float64(6), int64(10), object(43)\n",
      "memory usage: 13.2+ MB\n"
     ]
    }
   ],
   "source": [
    "raw_merged_steam_df = pd.read_csv('raw_merged_steam_df.csv')\n",
    "\n",
    "raw_merged_steam_df.info()"
   ]
  },
  {
   "cell_type": "markdown",
   "metadata": {},
   "source": [
    "### Cleaning the data\n",
    "\n",
    "First I will start by looking at the null values and removing unnecessary columns and those without enough useful data.\n"
   ]
  },
  {
   "cell_type": "code",
   "execution_count": 133,
   "metadata": {},
   "outputs": [],
   "source": [
    "# drop the nulls in name_y and make the index\n",
    "\n",
    "raw_merged_steam_df = raw_merged_steam_df.dropna(subset = ['name_y'])\n",
    "raw_merged_steam_df = raw_merged_steam_df.drop_duplicates(subset='name_y')"
   ]
  },
  {
   "cell_type": "code",
   "execution_count": 134,
   "metadata": {},
   "outputs": [],
   "source": [
    "raw_merged_steam_df = raw_merged_steam_df.set_index('name_y')"
   ]
  },
  {
   "cell_type": "code",
   "execution_count": 135,
   "metadata": {},
   "outputs": [],
   "source": [
    "# drop all columns with over 10k nulls\n",
    "\n",
    "working_steam_df = raw_merged_steam_df.drop(columns=['website', \n",
    "                                                     'recommendations', \n",
    "                                                     'reviews', \n",
    "                                                     'metacritic', \n",
    "                                                     'demos', \n",
    "                                                     'ext_user_account_notice', \n",
    "                                                     'drm_notice', \n",
    "                                                     'legal_notice', \n",
    "                                                     'fullgame', \n",
    "                                                     'dlc', \n",
    "                                                     'controller_support', \n",
    "                                                     'score_rank'])\n"
   ]
  },
  {
   "cell_type": "code",
   "execution_count": 136,
   "metadata": {},
   "outputs": [
    {
     "name": "stdout",
     "output_type": "stream",
     "text": [
      "<class 'pandas.core.frame.DataFrame'>\n",
      "Index: 29083 entries, Counter-Strike to Rune Lord\n",
      "Data columns (total 46 columns):\n",
      "Unnamed: 0              29083 non-null int64\n",
      "appid                   29083 non-null int64\n",
      "name_x                  29080 non-null object\n",
      "developer               28943 non-null object\n",
      "publisher               28861 non-null object\n",
      "positive                29083 non-null int64\n",
      "negative                29083 non-null int64\n",
      "userscore               29083 non-null int64\n",
      "owners                  29083 non-null object\n",
      "average_forever         29083 non-null int64\n",
      "average_2weeks          29083 non-null int64\n",
      "median_forever          29083 non-null int64\n",
      "median_2weeks           29083 non-null int64\n",
      "price                   29058 non-null float64\n",
      "initialprice            29063 non-null float64\n",
      "discount                29063 non-null float64\n",
      "languages               29046 non-null object\n",
      "genre                   28989 non-null object\n",
      "ccu                     29083 non-null int64\n",
      "tags                    29083 non-null object\n",
      "type                    29019 non-null object\n",
      "required_age            29019 non-null float64\n",
      "is_free                 29019 non-null object\n",
      "detailed_description    28994 non-null object\n",
      "about_the_game          28994 non-null object\n",
      "short_description       28994 non-null object\n",
      "supported_languages     29006 non-null object\n",
      "header_image            29019 non-null object\n",
      "pc_requirements         29019 non-null object\n",
      "mac_requirements        29019 non-null object\n",
      "linux_requirements      29019 non-null object\n",
      "developers              28905 non-null object\n",
      "publishers              29019 non-null object\n",
      "price_overview          25470 non-null object\n",
      "packages                25812 non-null object\n",
      "package_groups          29019 non-null object\n",
      "platforms               29019 non-null object\n",
      "categories              28458 non-null object\n",
      "genres                  28973 non-null object\n",
      "screenshots             28994 non-null object\n",
      "movies                  27104 non-null object\n",
      "achievements            26802 non-null object\n",
      "release_date            29019 non-null object\n",
      "support_info            29019 non-null object\n",
      "background              28994 non-null object\n",
      "content_descriptors     29019 non-null object\n",
      "dtypes: float64(4), int64(10), object(32)\n",
      "memory usage: 10.4+ MB\n"
     ]
    }
   ],
   "source": [
    "working_steam_df.info()"
   ]
  },
  {
   "cell_type": "markdown",
   "metadata": {},
   "source": [
    "### Columns to drop/keep, reason:\n",
    "\n",
    "#### Keep\n",
    "release_date, clean up to be just dates<br>\n",
    "achievements, change to boolean<br>\n",
    "movies, change to boolean<br>\n",
    "categories, change to categorical<br> \n",
    "required_age, clean up to categories<br>\n",
    "ccu, daily players<br>\n",
    "genre, change to categorical<br>\n",
    "discount,<br>\n",
    "initialprice, <br>\n",
    "owners, change to categorical (maybe log scale due to orders of magnitude)<br>\n",
    "name_y, use as index<br>\n",
    "languages, change to count of number of languages<br>\n",
    "median_2weeks, median number of players in the last two weeks<br>\n",
    "average_2weeks, average number of players in the last two weeks<br>\n",
    "negative, number of reviews, combine with positive for total interactions<br>\n",
    "positive, combine with negative for total interactions<br>\n",
    "platforms, if it is release on PC, Mac, and/or Linux <br>\n",
    "median_forever, forever rating (would use to determine success or failure if different algorithm)<br>\n",
    "average_forever, forever rating (would use to determine success or failure if different algorithm)<br>\n",
    "publisher, redundant data.  Using \"Indie\" tag to determine game is indie or not.  Might be needed for something else<br>\n",
    "developer, redundant data.  Using \"Indie\" tag to determine game is indie or not.  Might be needed for something else<br>"
   ]
  },
  {
   "cell_type": "markdown",
   "metadata": {},
   "source": [
    "#### Drop\n",
    "supported_languages, inconsistent data<br>\n",
    "content_descriptors, 26966 are none <br>\n",
    "background, link to background picture<br>\n",
    "support_info, not useful - links to support pages<br>\n",
    "genres, redundant<br>\n",
    "package_groups, data is redundant - same as price, dlc, name, etc<br>\n",
    "price_overview, redundant<br>\n",
    "linux_requirements, not consistent data<br>\n",
    "mac_requirements, not consistent data<br>\n",
    "pc_requirements, not consistent data<br>\n",
    "header_image, links to images<br>\n",
    "short_description, description of game<br>\n",
    "about_the_game, description of game<br>\n",
    "detailed_description, description of game<br>\n",
    "type, all the same: 'game'<br>\n",
    "tags, redundant categories data<br>\n",
    "userscore, 29175 0's<br>\n",
    "name_x, redundant and irrelavent<br>\n",
    "appid, initial identifier for merge but not needed<br>\n",
    "is_free, redundant<br>\n",
    "packages, not useable data<br>\n",
    "screenshots, all games have multiple screenshots.  Not useful data<br>\n",
    "publisher, redundant data.  Using \"Indie\" tag to determine game is indie or not.<br>\n",
    "developer, redundant data.  Using \"Indie\" tag to determine game is indie or not.<br>\n",
    "platforms, not reliable since it likely cound have been updated since release <br>"
   ]
  },
  {
   "cell_type": "code",
   "execution_count": 137,
   "metadata": {},
   "outputs": [],
   "source": [
    "stm_df_features = working_steam_df.drop(columns=['content_descriptors',\n",
    "                                                 'name_x',\n",
    "                                                  'background',\n",
    "                                                  'support_info',\n",
    "                                                  'genres',\n",
    "                                                  'package_groups',\n",
    "                                                  'price_overview',\n",
    "                                                  'publishers',\n",
    "                                                  'developers',\n",
    "                                                  'pc_requirements',\n",
    "                                                  'linux_requirements',\n",
    "                                                  'mac_requirements',\n",
    "                                                  'header_image',\n",
    "                                                  'short_description',\n",
    "                                                  'about_the_game',\n",
    "                                                  'detailed_description',\n",
    "                                                  'type',\n",
    "                                                  'tags',\n",
    "                                                  'userscore',\n",
    "                                                  'appid',\n",
    "                                                  'is_free',\n",
    "                                                  'packages',\n",
    "                                                  'screenshots',\n",
    "                                                 'supported_languages',\n",
    "                                                  'Unnamed: 0'])"
   ]
  },
  {
   "cell_type": "markdown",
   "metadata": {},
   "source": [
    "#### Clean up the remaining columns\n"
   ]
  },
  {
   "cell_type": "markdown",
   "metadata": {},
   "source": [
    "There is no way to get useful data from extrapolation.  Drop all the remaining nulls."
   ]
  },
  {
   "cell_type": "code",
   "execution_count": 138,
   "metadata": {},
   "outputs": [],
   "source": [
    "stm_df_features = stm_df_features.dropna(subset = ['developer','genre','categories','release_date','languages'])"
   ]
  },
  {
   "cell_type": "markdown",
   "metadata": {},
   "source": [
    "One potential important piece of information is whether or not the developer is self published or if it is a major publishing company.  To remove the major publishing labels the developer and publisher columns have to be cleaned up with nulls removed and filling in missing developers with publishers if available.  "
   ]
  },
  {
   "cell_type": "code",
   "execution_count": 139,
   "metadata": {},
   "outputs": [],
   "source": [
    "# if publisher is developer is missing, fill in with publisher\n",
    "\n",
    "stm_df_features['developer'] = stm_df_features['developer'].fillna(stm_df_features['publisher'])\n",
    "stm_df_features['publisher'] = stm_df_features['publisher'].fillna(stm_df_features['developer'])\n",
    "\n"
   ]
  },
  {
   "cell_type": "code",
   "execution_count": 140,
   "metadata": {},
   "outputs": [],
   "source": [
    "# fill in the required age at 0 because of the high number of 0's in this feature\n",
    "stm_df_features['required_age'] = stm_df_features['required_age'].fillna(0)"
   ]
  },
  {
   "cell_type": "markdown",
   "metadata": {},
   "source": [
    "For the movies column, if the game has an ad movie on the Steam page, change it to 1, else change it to 0.  <br>Fill Null with 0.<br>\n",
    "A quick check on the actual Steam page showed that all null blocks meant that the game did not have an intro movie where as if they did have a movie the spot was not null."
   ]
  },
  {
   "cell_type": "code",
   "execution_count": 141,
   "metadata": {},
   "outputs": [],
   "source": [
    "stm_df_features['movies'] = stm_df_features['movies'].fillna('False')\n",
    "stm_df_features['movies'] = stm_df_features['movies'].apply(lambda x : 0 if (x == 'False') else 1)"
   ]
  },
  {
   "cell_type": "code",
   "execution_count": 142,
   "metadata": {},
   "outputs": [
    {
     "name": "stdout",
     "output_type": "stream",
     "text": [
      "<class 'pandas.core.frame.DataFrame'>\n",
      "Index: 28309 entries, Counter-Strike to Rune Lord\n",
      "Data columns (total 21 columns):\n",
      "developer          28309 non-null object\n",
      "publisher          28309 non-null object\n",
      "positive           28309 non-null int64\n",
      "negative           28309 non-null int64\n",
      "owners             28309 non-null object\n",
      "average_forever    28309 non-null int64\n",
      "average_2weeks     28309 non-null int64\n",
      "median_forever     28309 non-null int64\n",
      "median_2weeks      28309 non-null int64\n",
      "price              28309 non-null float64\n",
      "initialprice       28309 non-null float64\n",
      "discount           28309 non-null float64\n",
      "languages          28309 non-null object\n",
      "genre              28309 non-null object\n",
      "ccu                28309 non-null int64\n",
      "required_age       28309 non-null float64\n",
      "platforms          28309 non-null object\n",
      "categories         28309 non-null object\n",
      "movies             28309 non-null int64\n",
      "achievements       26186 non-null object\n",
      "release_date       28309 non-null object\n",
      "dtypes: float64(4), int64(8), object(9)\n",
      "memory usage: 4.8+ MB\n"
     ]
    }
   ],
   "source": [
    "stm_df_features.info()"
   ]
  },
  {
   "cell_type": "markdown",
   "metadata": {},
   "source": [
    "If the game has built in achievements, change it to 1, else change it to 0.  Fill Null with 0. \n",
    "\n",
    "I want to fill the null with 0 because if it had no built in achievements, it would be empty or null"
   ]
  },
  {
   "cell_type": "code",
   "execution_count": 143,
   "metadata": {},
   "outputs": [],
   "source": [
    "stm_df_features['achievements'] = stm_df_features['achievements'].fillna(0)\n",
    "stm_df_features['achievements'] = stm_df_features['achievements'].apply(lambda x: 0 if (x == \"{'total': 0}\") else 1)"
   ]
  },
  {
   "cell_type": "code",
   "execution_count": 144,
   "metadata": {},
   "outputs": [],
   "source": [
    "stm_df_features['categories'] = stm_df_features['categories'].apply(lambda x: ';'.join(item['description'] for item in literal_eval(x)))\n",
    "stm_df_features['categories'] = stm_df_features['categories'].apply(lambda x: x.split(\";\")[0])\n",
    "\n"
   ]
  },
  {
   "cell_type": "code",
   "execution_count": 145,
   "metadata": {},
   "outputs": [
    {
     "data": {
      "text/plain": [
       "Single-player                 26779\n",
       "Multi-player                    861\n",
       "Online Multi-Player             306\n",
       "Local Multi-Player               88\n",
       "Steam Achievements               50\n",
       "MMO                              49\n",
       "Steam Workshop                   29\n",
       "Partial Controller Support       26\n",
       "Full controller support          18\n",
       "Steam Cloud                      14\n",
       "Shared/Split Screen              13\n",
       "Steam Trading Cards              13\n",
       "Includes level editor            11\n",
       "VR Support                       11\n",
       "In-App Purchases                 10\n",
       "Co-op                             9\n",
       "Captions available                5\n",
       "Local Co-op                       5\n",
       "Online Co-op                      4\n",
       "Cross-Platform Multiplayer        3\n",
       "Steam Leaderboards                3\n",
       "Includes Source SDK               1\n",
       "Stats                             1\n",
       "Name: categories, dtype: int64"
      ]
     },
     "execution_count": 145,
     "metadata": {},
     "output_type": "execute_result"
    }
   ],
   "source": [
    "stm_df_features.categories.value_counts()"
   ]
  },
  {
   "cell_type": "markdown",
   "metadata": {},
   "source": [
    "Looking at the data for counts of categories.  Most games fell into one of 8 major categories.  Drop all the rows that are not one of the major categories"
   ]
  },
  {
   "cell_type": "code",
   "execution_count": 146,
   "metadata": {},
   "outputs": [],
   "source": [
    "major_categories = ['Single-player', 'Multi-player', 'Online Multi-Player', 'Local Multi-Player', 'MMO', 'Local Co-op', 'Online Co-op', 'Co-op']\n",
    "\n",
    "stm_df_features = stm_df_features[stm_df_features['categories'].isin(major_categories)]"
   ]
  },
  {
   "cell_type": "code",
   "execution_count": 147,
   "metadata": {},
   "outputs": [
    {
     "name": "stdout",
     "output_type": "stream",
     "text": [
      "Aug 26, 2011\n",
      "Apr 23, 2019\n"
     ]
    }
   ],
   "source": [
    "stm_df_features['release_date'] = stm_df_features['release_date'].apply(md.eval_date)\n",
    "stm_df_features['release_date'] = stm_df_features['release_date'].apply(md.parse_date)\n",
    "stm_df_features['release_date'] = pd.to_datetime(stm_df_features['release_date'], format='%d %b %Y', errors='coerce')\n"
   ]
  },
  {
   "cell_type": "code",
   "execution_count": 148,
   "metadata": {},
   "outputs": [
    {
     "data": {
      "text/plain": [
       "name_y\n",
       "Counter-Strike              2000-11-01\n",
       "Team Fortress Classic       1999-04-01\n",
       "Day of Defeat               2003-05-01\n",
       "Deathmatch Classic          2001-06-01\n",
       "Half-Life: Opposing Force   1999-11-01\n",
       "Name: release_date, dtype: datetime64[ns]"
      ]
     },
     "execution_count": 148,
     "metadata": {},
     "output_type": "execute_result"
    }
   ],
   "source": [
    "stm_df_features.release_date.head()"
   ]
  },
  {
   "cell_type": "markdown",
   "metadata": {},
   "source": [
    "Converting the dates into years since I'm interested in the last two years of information for games launched."
   ]
  },
  {
   "cell_type": "code",
   "execution_count": 149,
   "metadata": {},
   "outputs": [],
   "source": [
    "stm_df_features['release_date'] = stm_df_features['release_date'].dt.year\n",
    "stm_df_features = stm_df_features.dropna(subset = ['release_date'])"
   ]
  },
  {
   "cell_type": "code",
   "execution_count": 150,
   "metadata": {},
   "outputs": [
    {
     "name": "stdout",
     "output_type": "stream",
     "text": [
      "<class 'pandas.core.frame.DataFrame'>\n",
      "Index: 27762 entries, Counter-Strike to Rune Lord\n",
      "Data columns (total 21 columns):\n",
      "developer          27762 non-null object\n",
      "publisher          27762 non-null object\n",
      "positive           27762 non-null int64\n",
      "negative           27762 non-null int64\n",
      "owners             27762 non-null object\n",
      "average_forever    27762 non-null int64\n",
      "average_2weeks     27762 non-null int64\n",
      "median_forever     27762 non-null int64\n",
      "median_2weeks      27762 non-null int64\n",
      "price              27762 non-null float64\n",
      "initialprice       27762 non-null float64\n",
      "discount           27762 non-null float64\n",
      "languages          27762 non-null object\n",
      "genre              27762 non-null object\n",
      "ccu                27762 non-null int64\n",
      "required_age       27762 non-null float64\n",
      "platforms          27762 non-null object\n",
      "categories         27762 non-null object\n",
      "movies             27762 non-null int64\n",
      "achievements       27762 non-null int64\n",
      "release_date       27762 non-null float64\n",
      "dtypes: float64(5), int64(9), object(7)\n",
      "memory usage: 4.7+ MB\n"
     ]
    }
   ],
   "source": [
    "stm_df_features.info()"
   ]
  },
  {
   "cell_type": "code",
   "execution_count": 151,
   "metadata": {},
   "outputs": [
    {
     "data": {
      "text/plain": [
       "Big Fish Games    231\n",
       "Strategy First    135\n",
       "Ubisoft           113\n",
       "THQ Nordic        100\n",
       "Sekai Project      98\n",
       "Name: publisher, dtype: int64"
      ]
     },
     "execution_count": 151,
     "metadata": {},
     "output_type": "execute_result"
    }
   ],
   "source": [
    "stm_df_features['publisher'].value_counts().head(5)"
   ]
  },
  {
   "cell_type": "code",
   "execution_count": 152,
   "metadata": {},
   "outputs": [],
   "source": [
    "# Create a new column if combined data\n",
    "new_dev_publisher_column = md.combine_and_binary(stm_df_features['developer'], stm_df_features['publisher'])\n",
    "# Merge the new column into the df\n",
    "stm_df_features = pd.merge(stm_df_features, new_dev_publisher_column, on='name_y')\n",
    "# Rename the merged column\n",
    "stm_df_features = stm_df_features.rename(columns={0:'Self_published'})\n"
   ]
  },
  {
   "cell_type": "code",
   "execution_count": 153,
   "metadata": {},
   "outputs": [],
   "source": [
    "stm_df_features = stm_df_features.drop(columns=['publisher','developer'])"
   ]
  },
  {
   "cell_type": "code",
   "execution_count": 154,
   "metadata": {},
   "outputs": [
    {
     "data": {
      "text/html": [
       "<div>\n",
       "<style scoped>\n",
       "    .dataframe tbody tr th:only-of-type {\n",
       "        vertical-align: middle;\n",
       "    }\n",
       "\n",
       "    .dataframe tbody tr th {\n",
       "        vertical-align: top;\n",
       "    }\n",
       "\n",
       "    .dataframe thead th {\n",
       "        text-align: right;\n",
       "    }\n",
       "</style>\n",
       "<table border=\"1\" class=\"dataframe\">\n",
       "  <thead>\n",
       "    <tr style=\"text-align: right;\">\n",
       "      <th></th>\n",
       "      <th>positive</th>\n",
       "      <th>negative</th>\n",
       "      <th>owners</th>\n",
       "      <th>average_forever</th>\n",
       "      <th>average_2weeks</th>\n",
       "      <th>median_forever</th>\n",
       "      <th>median_2weeks</th>\n",
       "      <th>price</th>\n",
       "      <th>initialprice</th>\n",
       "      <th>discount</th>\n",
       "      <th>languages</th>\n",
       "      <th>genre</th>\n",
       "      <th>ccu</th>\n",
       "      <th>required_age</th>\n",
       "      <th>platforms</th>\n",
       "      <th>categories</th>\n",
       "      <th>movies</th>\n",
       "      <th>achievements</th>\n",
       "      <th>release_date</th>\n",
       "      <th>Self_published</th>\n",
       "    </tr>\n",
       "    <tr>\n",
       "      <th>name_y</th>\n",
       "      <th></th>\n",
       "      <th></th>\n",
       "      <th></th>\n",
       "      <th></th>\n",
       "      <th></th>\n",
       "      <th></th>\n",
       "      <th></th>\n",
       "      <th></th>\n",
       "      <th></th>\n",
       "      <th></th>\n",
       "      <th></th>\n",
       "      <th></th>\n",
       "      <th></th>\n",
       "      <th></th>\n",
       "      <th></th>\n",
       "      <th></th>\n",
       "      <th></th>\n",
       "      <th></th>\n",
       "      <th></th>\n",
       "      <th></th>\n",
       "    </tr>\n",
       "  </thead>\n",
       "  <tbody>\n",
       "    <tr>\n",
       "      <th>Counter-Strike</th>\n",
       "      <td>124534</td>\n",
       "      <td>3339</td>\n",
       "      <td>10,000,000 .. 20,000,000</td>\n",
       "      <td>17612</td>\n",
       "      <td>709</td>\n",
       "      <td>317</td>\n",
       "      <td>26</td>\n",
       "      <td>999.0</td>\n",
       "      <td>999.0</td>\n",
       "      <td>0.0</td>\n",
       "      <td>English, French, German, Italian, Spanish - Sp...</td>\n",
       "      <td>Action</td>\n",
       "      <td>14923</td>\n",
       "      <td>0.0</td>\n",
       "      <td>{'windows': True, 'mac': True, 'linux': True}</td>\n",
       "      <td>Multi-player</td>\n",
       "      <td>0</td>\n",
       "      <td>0</td>\n",
       "      <td>2000.0</td>\n",
       "      <td>1</td>\n",
       "    </tr>\n",
       "    <tr>\n",
       "      <th>Team Fortress Classic</th>\n",
       "      <td>3318</td>\n",
       "      <td>633</td>\n",
       "      <td>5,000,000 .. 10,000,000</td>\n",
       "      <td>277</td>\n",
       "      <td>15</td>\n",
       "      <td>62</td>\n",
       "      <td>15</td>\n",
       "      <td>499.0</td>\n",
       "      <td>499.0</td>\n",
       "      <td>0.0</td>\n",
       "      <td>English, French, German, Italian, Spanish - Sp...</td>\n",
       "      <td>Action</td>\n",
       "      <td>87</td>\n",
       "      <td>0.0</td>\n",
       "      <td>{'windows': True, 'mac': True, 'linux': True}</td>\n",
       "      <td>Multi-player</td>\n",
       "      <td>0</td>\n",
       "      <td>0</td>\n",
       "      <td>1999.0</td>\n",
       "      <td>1</td>\n",
       "    </tr>\n",
       "    <tr>\n",
       "      <th>Day of Defeat</th>\n",
       "      <td>3416</td>\n",
       "      <td>398</td>\n",
       "      <td>5,000,000 .. 10,000,000</td>\n",
       "      <td>187</td>\n",
       "      <td>0</td>\n",
       "      <td>34</td>\n",
       "      <td>0</td>\n",
       "      <td>499.0</td>\n",
       "      <td>499.0</td>\n",
       "      <td>0.0</td>\n",
       "      <td>English, French, German, Italian, Spanish - Spain</td>\n",
       "      <td>Action</td>\n",
       "      <td>130</td>\n",
       "      <td>0.0</td>\n",
       "      <td>{'windows': True, 'mac': True, 'linux': True}</td>\n",
       "      <td>Multi-player</td>\n",
       "      <td>0</td>\n",
       "      <td>0</td>\n",
       "      <td>2003.0</td>\n",
       "      <td>1</td>\n",
       "    </tr>\n",
       "    <tr>\n",
       "      <th>Deathmatch Classic</th>\n",
       "      <td>1273</td>\n",
       "      <td>267</td>\n",
       "      <td>5,000,000 .. 10,000,000</td>\n",
       "      <td>258</td>\n",
       "      <td>0</td>\n",
       "      <td>184</td>\n",
       "      <td>0</td>\n",
       "      <td>499.0</td>\n",
       "      <td>499.0</td>\n",
       "      <td>0.0</td>\n",
       "      <td>English, French, German, Italian, Spanish - Sp...</td>\n",
       "      <td>Action</td>\n",
       "      <td>4</td>\n",
       "      <td>0.0</td>\n",
       "      <td>{'windows': True, 'mac': True, 'linux': True}</td>\n",
       "      <td>Multi-player</td>\n",
       "      <td>0</td>\n",
       "      <td>0</td>\n",
       "      <td>2001.0</td>\n",
       "      <td>1</td>\n",
       "    </tr>\n",
       "    <tr>\n",
       "      <th>Half-Life: Opposing Force</th>\n",
       "      <td>5250</td>\n",
       "      <td>288</td>\n",
       "      <td>5,000,000 .. 10,000,000</td>\n",
       "      <td>624</td>\n",
       "      <td>0</td>\n",
       "      <td>415</td>\n",
       "      <td>0</td>\n",
       "      <td>499.0</td>\n",
       "      <td>499.0</td>\n",
       "      <td>0.0</td>\n",
       "      <td>English, French, German, Korean</td>\n",
       "      <td>Action</td>\n",
       "      <td>71</td>\n",
       "      <td>0.0</td>\n",
       "      <td>{'windows': True, 'mac': True, 'linux': True}</td>\n",
       "      <td>Single-player</td>\n",
       "      <td>0</td>\n",
       "      <td>0</td>\n",
       "      <td>1999.0</td>\n",
       "      <td>0</td>\n",
       "    </tr>\n",
       "  </tbody>\n",
       "</table>\n",
       "</div>"
      ],
      "text/plain": [
       "                           positive  negative                    owners  \\\n",
       "name_y                                                                    \n",
       "Counter-Strike               124534      3339  10,000,000 .. 20,000,000   \n",
       "Team Fortress Classic          3318       633   5,000,000 .. 10,000,000   \n",
       "Day of Defeat                  3416       398   5,000,000 .. 10,000,000   \n",
       "Deathmatch Classic             1273       267   5,000,000 .. 10,000,000   \n",
       "Half-Life: Opposing Force      5250       288   5,000,000 .. 10,000,000   \n",
       "\n",
       "                           average_forever  average_2weeks  median_forever  \\\n",
       "name_y                                                                       \n",
       "Counter-Strike                       17612             709             317   \n",
       "Team Fortress Classic                  277              15              62   \n",
       "Day of Defeat                          187               0              34   \n",
       "Deathmatch Classic                     258               0             184   \n",
       "Half-Life: Opposing Force              624               0             415   \n",
       "\n",
       "                           median_2weeks  price  initialprice  discount  \\\n",
       "name_y                                                                    \n",
       "Counter-Strike                        26  999.0         999.0       0.0   \n",
       "Team Fortress Classic                 15  499.0         499.0       0.0   \n",
       "Day of Defeat                          0  499.0         499.0       0.0   \n",
       "Deathmatch Classic                     0  499.0         499.0       0.0   \n",
       "Half-Life: Opposing Force              0  499.0         499.0       0.0   \n",
       "\n",
       "                                                                   languages  \\\n",
       "name_y                                                                         \n",
       "Counter-Strike             English, French, German, Italian, Spanish - Sp...   \n",
       "Team Fortress Classic      English, French, German, Italian, Spanish - Sp...   \n",
       "Day of Defeat              English, French, German, Italian, Spanish - Spain   \n",
       "Deathmatch Classic         English, French, German, Italian, Spanish - Sp...   \n",
       "Half-Life: Opposing Force                    English, French, German, Korean   \n",
       "\n",
       "                            genre    ccu  required_age  \\\n",
       "name_y                                                   \n",
       "Counter-Strike             Action  14923           0.0   \n",
       "Team Fortress Classic      Action     87           0.0   \n",
       "Day of Defeat              Action    130           0.0   \n",
       "Deathmatch Classic         Action      4           0.0   \n",
       "Half-Life: Opposing Force  Action     71           0.0   \n",
       "\n",
       "                                                               platforms  \\\n",
       "name_y                                                                     \n",
       "Counter-Strike             {'windows': True, 'mac': True, 'linux': True}   \n",
       "Team Fortress Classic      {'windows': True, 'mac': True, 'linux': True}   \n",
       "Day of Defeat              {'windows': True, 'mac': True, 'linux': True}   \n",
       "Deathmatch Classic         {'windows': True, 'mac': True, 'linux': True}   \n",
       "Half-Life: Opposing Force  {'windows': True, 'mac': True, 'linux': True}   \n",
       "\n",
       "                              categories  movies  achievements  release_date  \\\n",
       "name_y                                                                         \n",
       "Counter-Strike              Multi-player       0             0        2000.0   \n",
       "Team Fortress Classic       Multi-player       0             0        1999.0   \n",
       "Day of Defeat               Multi-player       0             0        2003.0   \n",
       "Deathmatch Classic          Multi-player       0             0        2001.0   \n",
       "Half-Life: Opposing Force  Single-player       0             0        1999.0   \n",
       "\n",
       "                           Self_published  \n",
       "name_y                                     \n",
       "Counter-Strike                          1  \n",
       "Team Fortress Classic                   1  \n",
       "Day of Defeat                           1  \n",
       "Deathmatch Classic                      1  \n",
       "Half-Life: Opposing Force               0  "
      ]
     },
     "execution_count": 154,
     "metadata": {},
     "output_type": "execute_result"
    }
   ],
   "source": [
    "stm_df_features.head()"
   ]
  },
  {
   "cell_type": "markdown",
   "metadata": {},
   "source": [
    "Use the low estimate as the number for owners.  \n",
    "(Owners is number of players that own but did not necessarily buy the game. So we will leave the estimate on the low end.)"
   ]
  },
  {
   "cell_type": "code",
   "execution_count": 155,
   "metadata": {},
   "outputs": [],
   "source": [
    "stm_df_features['owners'] = stm_df_features['owners'].apply(lambda x: int(x.replace(',','').split()[0]))"
   ]
  },
  {
   "cell_type": "markdown",
   "metadata": {},
   "source": [
    "I wanted to try to get something useful from genre as a game's playerbase could have an effect on interactions.  \n",
    "\n",
    "I decided to split it into major categories again.  A quick internet search confirmed that a game was likely to fall under Action, Adventure, Casual, RPG, Racing, or Strategy.  Also, some games had no genre tag and therefor fell into the None category.  \n",
    "\n",
    "Another interesting part about the genre data is that it also contains an Indie tag.  I will be using this to isolate indie games.  "
   ]
  },
  {
   "cell_type": "code",
   "execution_count": 156,
   "metadata": {},
   "outputs": [
    {
     "data": {
      "text/plain": [
       "Action, Indie                                                                      1930\n",
       "Casual, Indie                                                                      1554\n",
       "Action, Adventure, Indie                                                           1286\n",
       "Adventure, Indie                                                                   1202\n",
       "Action, Casual, Indie                                                              1042\n",
       "                                                                                   ... \n",
       "Sexual Content, Nudity, Adventure, Indie, Simulation                                  1\n",
       "Action, Adventure, Casual, Free to Play, Indie, RPG, Early Access                     1\n",
       "Action, Adventure, Casual, Free to Play, Massively Multiplayer, RPG, Simulation       1\n",
       "Sexual Content, Nudity, Violent, RPG, Strategy                                        1\n",
       "Action, Sports, Strategy, Early Access                                                1\n",
       "Name: genre, Length: 1476, dtype: int64"
      ]
     },
     "execution_count": 156,
     "metadata": {},
     "output_type": "execute_result"
    }
   ],
   "source": [
    "stm_df_features.genre.value_counts()"
   ]
  },
  {
   "cell_type": "code",
   "execution_count": 157,
   "metadata": {},
   "outputs": [],
   "source": [
    "stm_df_features['genre'] = stm_df_features['genre'].apply(lambda x: x.replace(',','').split())"
   ]
  },
  {
   "cell_type": "code",
   "execution_count": 158,
   "metadata": {},
   "outputs": [
    {
     "data": {
      "text/plain": [
       "name_y\n",
       "Counter-Strike                                  [Action]\n",
       "Team Fortress Classic                           [Action]\n",
       "Day of Defeat                                   [Action]\n",
       "Deathmatch Classic                              [Action]\n",
       "Half-Life: Opposing Force                       [Action]\n",
       "                                         ...            \n",
       "Room of Pandora               [Adventure, Casual, Indie]\n",
       "Cyber Gun                     [Action, Adventure, Indie]\n",
       "Super Star Blast                 [Action, Casual, Indie]\n",
       "New Yankee 7: Deer Hunters    [Adventure, Casual, Indie]\n",
       "Rune Lord                     [Adventure, Casual, Indie]\n",
       "Name: genre, Length: 27762, dtype: object"
      ]
     },
     "execution_count": 158,
     "metadata": {},
     "output_type": "execute_result"
    }
   ],
   "source": [
    "stm_df_features['genre']"
   ]
  },
  {
   "cell_type": "code",
   "execution_count": 159,
   "metadata": {},
   "outputs": [],
   "source": [
    "#Determine if game is tagged as Indie then remove the Indie tag\n",
    "\n",
    "stm_df_features['Is_Indie'] = stm_df_features['genre'].apply(lambda x: 1 if 'Indie' in x else 0)\n",
    "stm_df_features['genre'] = stm_df_features['genre'].apply(md.remove_item)\n",
    "stm_df_features['Game_Genre'] = stm_df_features['genre'].apply(md.assign_genre)"
   ]
  },
  {
   "cell_type": "code",
   "execution_count": 160,
   "metadata": {},
   "outputs": [
    {
     "data": {
      "text/plain": [
       "Action       12308\n",
       "Adventure     5630\n",
       "Casual        4665\n",
       "None          2029\n",
       "Strategy      1703\n",
       "RPG           1079\n",
       "Racing         348\n",
       "Name: Game_Genre, dtype: int64"
      ]
     },
     "execution_count": 160,
     "metadata": {},
     "output_type": "execute_result"
    }
   ],
   "source": [
    "stm_df_features['Game_Genre'].value_counts()"
   ]
  },
  {
   "cell_type": "markdown",
   "metadata": {},
   "source": [
    "Since almost 20k games are tagged as Indie, I'm dropping the games that are not as large developers will skew the model"
   ]
  },
  {
   "cell_type": "code",
   "execution_count": 161,
   "metadata": {},
   "outputs": [
    {
     "data": {
      "text/plain": [
       "[Action]                                                                                         2811\n",
       "[Casual]                                                                                         2180\n",
       "[Adventure]                                                                                      1768\n",
       "[Action, Adventure]                                                                              1673\n",
       "[Adventure, Casual]                                                                              1356\n",
       "                                                                                                 ... \n",
       "[Gore, Casual, Simulation, Strategy]                                                                1\n",
       "[Action, Adventure, Casual, Massively, Multiplayer, RPG, Simulation, Strategy, Early, Access]       1\n",
       "[RPG, Simulation, Sports]                                                                           1\n",
       "[Action, Adventure, Casual, Free, to, Play, Massively, Multiplayer, Simulation, Sports]             1\n",
       "[Nudity, Simulation]                                                                                1\n",
       "Name: genre, Length: 1073, dtype: int64"
      ]
     },
     "execution_count": 161,
     "metadata": {},
     "output_type": "execute_result"
    }
   ],
   "source": [
    "stm_df_features['genre'].value_counts()"
   ]
  },
  {
   "cell_type": "code",
   "execution_count": 162,
   "metadata": {},
   "outputs": [],
   "source": [
    "# Categorized genre into Is_Indie and Game_Genre, removing this as it contains unused duplicate info\n",
    "\n",
    "stm_df_features = stm_df_features.drop(columns=['genre'])"
   ]
  },
  {
   "cell_type": "code",
   "execution_count": 163,
   "metadata": {},
   "outputs": [
    {
     "data": {
      "text/html": [
       "<div>\n",
       "<style scoped>\n",
       "    .dataframe tbody tr th:only-of-type {\n",
       "        vertical-align: middle;\n",
       "    }\n",
       "\n",
       "    .dataframe tbody tr th {\n",
       "        vertical-align: top;\n",
       "    }\n",
       "\n",
       "    .dataframe thead th {\n",
       "        text-align: right;\n",
       "    }\n",
       "</style>\n",
       "<table border=\"1\" class=\"dataframe\">\n",
       "  <thead>\n",
       "    <tr style=\"text-align: right;\">\n",
       "      <th></th>\n",
       "      <th>positive</th>\n",
       "      <th>negative</th>\n",
       "      <th>owners</th>\n",
       "      <th>average_forever</th>\n",
       "      <th>average_2weeks</th>\n",
       "      <th>median_forever</th>\n",
       "      <th>median_2weeks</th>\n",
       "      <th>price</th>\n",
       "      <th>initialprice</th>\n",
       "      <th>discount</th>\n",
       "      <th>...</th>\n",
       "      <th>ccu</th>\n",
       "      <th>required_age</th>\n",
       "      <th>platforms</th>\n",
       "      <th>categories</th>\n",
       "      <th>movies</th>\n",
       "      <th>achievements</th>\n",
       "      <th>release_date</th>\n",
       "      <th>Self_published</th>\n",
       "      <th>Is_Indie</th>\n",
       "      <th>Game_Genre</th>\n",
       "    </tr>\n",
       "    <tr>\n",
       "      <th>name_y</th>\n",
       "      <th></th>\n",
       "      <th></th>\n",
       "      <th></th>\n",
       "      <th></th>\n",
       "      <th></th>\n",
       "      <th></th>\n",
       "      <th></th>\n",
       "      <th></th>\n",
       "      <th></th>\n",
       "      <th></th>\n",
       "      <th></th>\n",
       "      <th></th>\n",
       "      <th></th>\n",
       "      <th></th>\n",
       "      <th></th>\n",
       "      <th></th>\n",
       "      <th></th>\n",
       "      <th></th>\n",
       "      <th></th>\n",
       "      <th></th>\n",
       "      <th></th>\n",
       "    </tr>\n",
       "  </thead>\n",
       "  <tbody>\n",
       "    <tr>\n",
       "      <th>Counter-Strike</th>\n",
       "      <td>124534</td>\n",
       "      <td>3339</td>\n",
       "      <td>10000000</td>\n",
       "      <td>17612</td>\n",
       "      <td>709</td>\n",
       "      <td>317</td>\n",
       "      <td>26</td>\n",
       "      <td>999.0</td>\n",
       "      <td>999.0</td>\n",
       "      <td>0.0</td>\n",
       "      <td>...</td>\n",
       "      <td>14923</td>\n",
       "      <td>0.0</td>\n",
       "      <td>{'windows': True, 'mac': True, 'linux': True}</td>\n",
       "      <td>Multi-player</td>\n",
       "      <td>0</td>\n",
       "      <td>0</td>\n",
       "      <td>2000.0</td>\n",
       "      <td>1</td>\n",
       "      <td>0</td>\n",
       "      <td>Action</td>\n",
       "    </tr>\n",
       "    <tr>\n",
       "      <th>Team Fortress Classic</th>\n",
       "      <td>3318</td>\n",
       "      <td>633</td>\n",
       "      <td>5000000</td>\n",
       "      <td>277</td>\n",
       "      <td>15</td>\n",
       "      <td>62</td>\n",
       "      <td>15</td>\n",
       "      <td>499.0</td>\n",
       "      <td>499.0</td>\n",
       "      <td>0.0</td>\n",
       "      <td>...</td>\n",
       "      <td>87</td>\n",
       "      <td>0.0</td>\n",
       "      <td>{'windows': True, 'mac': True, 'linux': True}</td>\n",
       "      <td>Multi-player</td>\n",
       "      <td>0</td>\n",
       "      <td>0</td>\n",
       "      <td>1999.0</td>\n",
       "      <td>1</td>\n",
       "      <td>0</td>\n",
       "      <td>Action</td>\n",
       "    </tr>\n",
       "  </tbody>\n",
       "</table>\n",
       "<p>2 rows × 21 columns</p>\n",
       "</div>"
      ],
      "text/plain": [
       "                       positive  negative    owners  average_forever  \\\n",
       "name_y                                                                 \n",
       "Counter-Strike           124534      3339  10000000            17612   \n",
       "Team Fortress Classic      3318       633   5000000              277   \n",
       "\n",
       "                       average_2weeks  median_forever  median_2weeks  price  \\\n",
       "name_y                                                                        \n",
       "Counter-Strike                    709             317             26  999.0   \n",
       "Team Fortress Classic              15              62             15  499.0   \n",
       "\n",
       "                       initialprice  discount  ...    ccu  required_age  \\\n",
       "name_y                                         ...                        \n",
       "Counter-Strike                999.0       0.0  ...  14923           0.0   \n",
       "Team Fortress Classic         499.0       0.0  ...     87           0.0   \n",
       "\n",
       "                                                           platforms  \\\n",
       "name_y                                                                 \n",
       "Counter-Strike         {'windows': True, 'mac': True, 'linux': True}   \n",
       "Team Fortress Classic  {'windows': True, 'mac': True, 'linux': True}   \n",
       "\n",
       "                         categories movies  achievements  release_date  \\\n",
       "name_y                                                                   \n",
       "Counter-Strike         Multi-player      0             0        2000.0   \n",
       "Team Fortress Classic  Multi-player      0             0        1999.0   \n",
       "\n",
       "                       Self_published  Is_Indie  Game_Genre  \n",
       "name_y                                                       \n",
       "Counter-Strike                      1         0      Action  \n",
       "Team Fortress Classic               1         0      Action  \n",
       "\n",
       "[2 rows x 21 columns]"
      ]
     },
     "execution_count": 163,
     "metadata": {},
     "output_type": "execute_result"
    }
   ],
   "source": [
    "stm_df_features.head(2)"
   ]
  },
  {
   "cell_type": "markdown",
   "metadata": {},
   "source": [
    "The languages & platforms are similar to the way the data was formatted in the genre column.  So, I split it into individual languages and game platforms and then did a count of the number of languages and a count of the number of game consoles each one row had.  "
   ]
  },
  {
   "cell_type": "code",
   "execution_count": 164,
   "metadata": {},
   "outputs": [],
   "source": [
    "stm_df_features['languages'] = stm_df_features['languages'].astype(str)"
   ]
  },
  {
   "cell_type": "code",
   "execution_count": 165,
   "metadata": {},
   "outputs": [],
   "source": [
    "stm_df_features['languages'] = stm_df_features['languages'].apply(lambda x: x.split())"
   ]
  },
  {
   "cell_type": "code",
   "execution_count": 166,
   "metadata": {},
   "outputs": [],
   "source": [
    "stm_df_features['Number_Languages'] = stm_df_features['languages'].apply(lambda x: len(x))"
   ]
  },
  {
   "cell_type": "code",
   "execution_count": 167,
   "metadata": {},
   "outputs": [
    {
     "data": {
      "text/html": [
       "<div>\n",
       "<style scoped>\n",
       "    .dataframe tbody tr th:only-of-type {\n",
       "        vertical-align: middle;\n",
       "    }\n",
       "\n",
       "    .dataframe tbody tr th {\n",
       "        vertical-align: top;\n",
       "    }\n",
       "\n",
       "    .dataframe thead th {\n",
       "        text-align: right;\n",
       "    }\n",
       "</style>\n",
       "<table border=\"1\" class=\"dataframe\">\n",
       "  <thead>\n",
       "    <tr style=\"text-align: right;\">\n",
       "      <th></th>\n",
       "      <th>positive</th>\n",
       "      <th>negative</th>\n",
       "      <th>owners</th>\n",
       "      <th>average_forever</th>\n",
       "      <th>average_2weeks</th>\n",
       "      <th>median_forever</th>\n",
       "      <th>median_2weeks</th>\n",
       "      <th>price</th>\n",
       "      <th>initialprice</th>\n",
       "      <th>discount</th>\n",
       "      <th>...</th>\n",
       "      <th>required_age</th>\n",
       "      <th>platforms</th>\n",
       "      <th>categories</th>\n",
       "      <th>movies</th>\n",
       "      <th>achievements</th>\n",
       "      <th>release_date</th>\n",
       "      <th>Self_published</th>\n",
       "      <th>Is_Indie</th>\n",
       "      <th>Game_Genre</th>\n",
       "      <th>Number_Languages</th>\n",
       "    </tr>\n",
       "    <tr>\n",
       "      <th>name_y</th>\n",
       "      <th></th>\n",
       "      <th></th>\n",
       "      <th></th>\n",
       "      <th></th>\n",
       "      <th></th>\n",
       "      <th></th>\n",
       "      <th></th>\n",
       "      <th></th>\n",
       "      <th></th>\n",
       "      <th></th>\n",
       "      <th></th>\n",
       "      <th></th>\n",
       "      <th></th>\n",
       "      <th></th>\n",
       "      <th></th>\n",
       "      <th></th>\n",
       "      <th></th>\n",
       "      <th></th>\n",
       "      <th></th>\n",
       "      <th></th>\n",
       "      <th></th>\n",
       "    </tr>\n",
       "  </thead>\n",
       "  <tbody>\n",
       "    <tr>\n",
       "      <th>Counter-Strike</th>\n",
       "      <td>124534</td>\n",
       "      <td>3339</td>\n",
       "      <td>10000000</td>\n",
       "      <td>17612</td>\n",
       "      <td>709</td>\n",
       "      <td>317</td>\n",
       "      <td>26</td>\n",
       "      <td>999.0</td>\n",
       "      <td>999.0</td>\n",
       "      <td>0.0</td>\n",
       "      <td>...</td>\n",
       "      <td>0.0</td>\n",
       "      <td>{'windows': True, 'mac': True, 'linux': True}</td>\n",
       "      <td>Multi-player</td>\n",
       "      <td>0</td>\n",
       "      <td>0</td>\n",
       "      <td>2000.0</td>\n",
       "      <td>1</td>\n",
       "      <td>0</td>\n",
       "      <td>Action</td>\n",
       "      <td>12</td>\n",
       "    </tr>\n",
       "  </tbody>\n",
       "</table>\n",
       "<p>1 rows × 22 columns</p>\n",
       "</div>"
      ],
      "text/plain": [
       "                positive  negative    owners  average_forever  average_2weeks  \\\n",
       "name_y                                                                          \n",
       "Counter-Strike    124534      3339  10000000            17612             709   \n",
       "\n",
       "                median_forever  median_2weeks  price  initialprice  discount  \\\n",
       "name_y                                                                         \n",
       "Counter-Strike             317             26  999.0         999.0       0.0   \n",
       "\n",
       "                ... required_age  \\\n",
       "name_y          ...                \n",
       "Counter-Strike  ...          0.0   \n",
       "\n",
       "                                                    platforms    categories  \\\n",
       "name_y                                                                        \n",
       "Counter-Strike  {'windows': True, 'mac': True, 'linux': True}  Multi-player   \n",
       "\n",
       "               movies achievements  release_date  Self_published  Is_Indie  \\\n",
       "name_y                                                                       \n",
       "Counter-Strike      0            0        2000.0               1         0   \n",
       "\n",
       "                Game_Genre  Number_Languages  \n",
       "name_y                                        \n",
       "Counter-Strike      Action                12  \n",
       "\n",
       "[1 rows x 22 columns]"
      ]
     },
     "execution_count": 167,
     "metadata": {},
     "output_type": "execute_result"
    }
   ],
   "source": [
    "stm_df_features.head(1)"
   ]
  },
  {
   "cell_type": "code",
   "execution_count": 168,
   "metadata": {},
   "outputs": [],
   "source": [
    "stm_df_features = stm_df_features.drop(columns=['languages'])"
   ]
  },
  {
   "cell_type": "code",
   "execution_count": 169,
   "metadata": {},
   "outputs": [],
   "source": [
    "# Uses the function convert_platforms to count which platforms it has listed.  \n",
    "\n",
    "stm_df_features['Number_Platforms'] = stm_df_features['platforms'].apply(md.convert_platforms)\n"
   ]
  },
  {
   "cell_type": "code",
   "execution_count": 170,
   "metadata": {},
   "outputs": [
    {
     "data": {
      "text/html": [
       "<div>\n",
       "<style scoped>\n",
       "    .dataframe tbody tr th:only-of-type {\n",
       "        vertical-align: middle;\n",
       "    }\n",
       "\n",
       "    .dataframe tbody tr th {\n",
       "        vertical-align: top;\n",
       "    }\n",
       "\n",
       "    .dataframe thead th {\n",
       "        text-align: right;\n",
       "    }\n",
       "</style>\n",
       "<table border=\"1\" class=\"dataframe\">\n",
       "  <thead>\n",
       "    <tr style=\"text-align: right;\">\n",
       "      <th></th>\n",
       "      <th>positive</th>\n",
       "      <th>negative</th>\n",
       "      <th>owners</th>\n",
       "      <th>average_forever</th>\n",
       "      <th>average_2weeks</th>\n",
       "      <th>median_forever</th>\n",
       "      <th>median_2weeks</th>\n",
       "      <th>price</th>\n",
       "      <th>initialprice</th>\n",
       "      <th>discount</th>\n",
       "      <th>...</th>\n",
       "      <th>platforms</th>\n",
       "      <th>categories</th>\n",
       "      <th>movies</th>\n",
       "      <th>achievements</th>\n",
       "      <th>release_date</th>\n",
       "      <th>Self_published</th>\n",
       "      <th>Is_Indie</th>\n",
       "      <th>Game_Genre</th>\n",
       "      <th>Number_Languages</th>\n",
       "      <th>Number_Platforms</th>\n",
       "    </tr>\n",
       "    <tr>\n",
       "      <th>name_y</th>\n",
       "      <th></th>\n",
       "      <th></th>\n",
       "      <th></th>\n",
       "      <th></th>\n",
       "      <th></th>\n",
       "      <th></th>\n",
       "      <th></th>\n",
       "      <th></th>\n",
       "      <th></th>\n",
       "      <th></th>\n",
       "      <th></th>\n",
       "      <th></th>\n",
       "      <th></th>\n",
       "      <th></th>\n",
       "      <th></th>\n",
       "      <th></th>\n",
       "      <th></th>\n",
       "      <th></th>\n",
       "      <th></th>\n",
       "      <th></th>\n",
       "      <th></th>\n",
       "    </tr>\n",
       "  </thead>\n",
       "  <tbody>\n",
       "    <tr>\n",
       "      <th>Counter-Strike</th>\n",
       "      <td>124534</td>\n",
       "      <td>3339</td>\n",
       "      <td>10000000</td>\n",
       "      <td>17612</td>\n",
       "      <td>709</td>\n",
       "      <td>317</td>\n",
       "      <td>26</td>\n",
       "      <td>999.0</td>\n",
       "      <td>999.0</td>\n",
       "      <td>0.0</td>\n",
       "      <td>...</td>\n",
       "      <td>{'windows': True, 'mac': True, 'linux': True}</td>\n",
       "      <td>Multi-player</td>\n",
       "      <td>0</td>\n",
       "      <td>0</td>\n",
       "      <td>2000.0</td>\n",
       "      <td>1</td>\n",
       "      <td>0</td>\n",
       "      <td>Action</td>\n",
       "      <td>12</td>\n",
       "      <td>3</td>\n",
       "    </tr>\n",
       "    <tr>\n",
       "      <th>Team Fortress Classic</th>\n",
       "      <td>3318</td>\n",
       "      <td>633</td>\n",
       "      <td>5000000</td>\n",
       "      <td>277</td>\n",
       "      <td>15</td>\n",
       "      <td>62</td>\n",
       "      <td>15</td>\n",
       "      <td>499.0</td>\n",
       "      <td>499.0</td>\n",
       "      <td>0.0</td>\n",
       "      <td>...</td>\n",
       "      <td>{'windows': True, 'mac': True, 'linux': True}</td>\n",
       "      <td>Multi-player</td>\n",
       "      <td>0</td>\n",
       "      <td>0</td>\n",
       "      <td>1999.0</td>\n",
       "      <td>1</td>\n",
       "      <td>0</td>\n",
       "      <td>Action</td>\n",
       "      <td>13</td>\n",
       "      <td>3</td>\n",
       "    </tr>\n",
       "    <tr>\n",
       "      <th>Day of Defeat</th>\n",
       "      <td>3416</td>\n",
       "      <td>398</td>\n",
       "      <td>5000000</td>\n",
       "      <td>187</td>\n",
       "      <td>0</td>\n",
       "      <td>34</td>\n",
       "      <td>0</td>\n",
       "      <td>499.0</td>\n",
       "      <td>499.0</td>\n",
       "      <td>0.0</td>\n",
       "      <td>...</td>\n",
       "      <td>{'windows': True, 'mac': True, 'linux': True}</td>\n",
       "      <td>Multi-player</td>\n",
       "      <td>0</td>\n",
       "      <td>0</td>\n",
       "      <td>2003.0</td>\n",
       "      <td>1</td>\n",
       "      <td>0</td>\n",
       "      <td>Action</td>\n",
       "      <td>7</td>\n",
       "      <td>3</td>\n",
       "    </tr>\n",
       "    <tr>\n",
       "      <th>Deathmatch Classic</th>\n",
       "      <td>1273</td>\n",
       "      <td>267</td>\n",
       "      <td>5000000</td>\n",
       "      <td>258</td>\n",
       "      <td>0</td>\n",
       "      <td>184</td>\n",
       "      <td>0</td>\n",
       "      <td>499.0</td>\n",
       "      <td>499.0</td>\n",
       "      <td>0.0</td>\n",
       "      <td>...</td>\n",
       "      <td>{'windows': True, 'mac': True, 'linux': True}</td>\n",
       "      <td>Multi-player</td>\n",
       "      <td>0</td>\n",
       "      <td>0</td>\n",
       "      <td>2001.0</td>\n",
       "      <td>1</td>\n",
       "      <td>0</td>\n",
       "      <td>Action</td>\n",
       "      <td>13</td>\n",
       "      <td>3</td>\n",
       "    </tr>\n",
       "    <tr>\n",
       "      <th>Half-Life: Opposing Force</th>\n",
       "      <td>5250</td>\n",
       "      <td>288</td>\n",
       "      <td>5000000</td>\n",
       "      <td>624</td>\n",
       "      <td>0</td>\n",
       "      <td>415</td>\n",
       "      <td>0</td>\n",
       "      <td>499.0</td>\n",
       "      <td>499.0</td>\n",
       "      <td>0.0</td>\n",
       "      <td>...</td>\n",
       "      <td>{'windows': True, 'mac': True, 'linux': True}</td>\n",
       "      <td>Single-player</td>\n",
       "      <td>0</td>\n",
       "      <td>0</td>\n",
       "      <td>1999.0</td>\n",
       "      <td>0</td>\n",
       "      <td>0</td>\n",
       "      <td>Action</td>\n",
       "      <td>4</td>\n",
       "      <td>3</td>\n",
       "    </tr>\n",
       "  </tbody>\n",
       "</table>\n",
       "<p>5 rows × 22 columns</p>\n",
       "</div>"
      ],
      "text/plain": [
       "                           positive  negative    owners  average_forever  \\\n",
       "name_y                                                                     \n",
       "Counter-Strike               124534      3339  10000000            17612   \n",
       "Team Fortress Classic          3318       633   5000000              277   \n",
       "Day of Defeat                  3416       398   5000000              187   \n",
       "Deathmatch Classic             1273       267   5000000              258   \n",
       "Half-Life: Opposing Force      5250       288   5000000              624   \n",
       "\n",
       "                           average_2weeks  median_forever  median_2weeks  \\\n",
       "name_y                                                                     \n",
       "Counter-Strike                        709             317             26   \n",
       "Team Fortress Classic                  15              62             15   \n",
       "Day of Defeat                           0              34              0   \n",
       "Deathmatch Classic                      0             184              0   \n",
       "Half-Life: Opposing Force               0             415              0   \n",
       "\n",
       "                           price  initialprice  discount  ...  \\\n",
       "name_y                                                    ...   \n",
       "Counter-Strike             999.0         999.0       0.0  ...   \n",
       "Team Fortress Classic      499.0         499.0       0.0  ...   \n",
       "Day of Defeat              499.0         499.0       0.0  ...   \n",
       "Deathmatch Classic         499.0         499.0       0.0  ...   \n",
       "Half-Life: Opposing Force  499.0         499.0       0.0  ...   \n",
       "\n",
       "                                                               platforms  \\\n",
       "name_y                                                                     \n",
       "Counter-Strike             {'windows': True, 'mac': True, 'linux': True}   \n",
       "Team Fortress Classic      {'windows': True, 'mac': True, 'linux': True}   \n",
       "Day of Defeat              {'windows': True, 'mac': True, 'linux': True}   \n",
       "Deathmatch Classic         {'windows': True, 'mac': True, 'linux': True}   \n",
       "Half-Life: Opposing Force  {'windows': True, 'mac': True, 'linux': True}   \n",
       "\n",
       "                              categories movies achievements  release_date  \\\n",
       "name_y                                                                       \n",
       "Counter-Strike              Multi-player      0            0        2000.0   \n",
       "Team Fortress Classic       Multi-player      0            0        1999.0   \n",
       "Day of Defeat               Multi-player      0            0        2003.0   \n",
       "Deathmatch Classic          Multi-player      0            0        2001.0   \n",
       "Half-Life: Opposing Force  Single-player      0            0        1999.0   \n",
       "\n",
       "                           Self_published  Is_Indie  Game_Genre  \\\n",
       "name_y                                                            \n",
       "Counter-Strike                          1         0      Action   \n",
       "Team Fortress Classic                   1         0      Action   \n",
       "Day of Defeat                           1         0      Action   \n",
       "Deathmatch Classic                      1         0      Action   \n",
       "Half-Life: Opposing Force               0         0      Action   \n",
       "\n",
       "                           Number_Languages Number_Platforms  \n",
       "name_y                                                        \n",
       "Counter-Strike                           12                3  \n",
       "Team Fortress Classic                    13                3  \n",
       "Day of Defeat                             7                3  \n",
       "Deathmatch Classic                       13                3  \n",
       "Half-Life: Opposing Force                 4                3  \n",
       "\n",
       "[5 rows x 22 columns]"
      ]
     },
     "execution_count": 170,
     "metadata": {},
     "output_type": "execute_result"
    }
   ],
   "source": [
    "stm_df_features.head()"
   ]
  },
  {
   "cell_type": "markdown",
   "metadata": {},
   "source": [
    "Renamed all the columns to make more sense.  "
   ]
  },
  {
   "cell_type": "code",
   "execution_count": 171,
   "metadata": {},
   "outputs": [],
   "source": [
    "stm_df_features = stm_df_features.rename(columns = {'name_y':'Game_Name', \n",
    "                                                    'positive':'Positive_Reviews',\n",
    "                                                    'negative':'Negative_Reviews',\n",
    "                                                    'average_forever':'Average_Daily_Players',\n",
    "                                                    'median_forever':'Median_Daily_Players',\n",
    "                                                   'owners':'Approx_Owners',\n",
    "                                                   'price':'Current_Price',\n",
    "                                                   'initialprice':'Initial_Price',\n",
    "                                                   'discount':'Discount_Percent',\n",
    "                                                   'required_age':'Required_Age',\n",
    "                                                   'categories':'Single_or_Multiplayer',\n",
    "                                                   'movies':'Has_Game_Trailer',\n",
    "                                                   'ccu':'Daily_Players',\n",
    "                                                   'achievements':'Has_Achievements',\n",
    "                                                    'platforms':'Platforms',\n",
    "                                                   'release_date':'release_year'})\n"
   ]
  },
  {
   "cell_type": "code",
   "execution_count": 172,
   "metadata": {},
   "outputs": [],
   "source": [
    "# Pricing over $100 for a game is not a realistic number.  Removing all those prices. \n",
    "\n",
    "stm_df_features = stm_df_features[stm_df_features['Initial_Price'] < 10000]\n",
    "\n"
   ]
  },
  {
   "cell_type": "code",
   "execution_count": 173,
   "metadata": {},
   "outputs": [
    {
     "name": "stdout",
     "output_type": "stream",
     "text": [
      "<class 'pandas.core.frame.DataFrame'>\n",
      "Index: 27755 entries, Counter-Strike to Rune Lord\n",
      "Data columns (total 22 columns):\n",
      "Positive_Reviews         27755 non-null int64\n",
      "Negative_Reviews         27755 non-null int64\n",
      "Approx_Owners            27755 non-null int64\n",
      "Average_Daily_Players    27755 non-null int64\n",
      "average_2weeks           27755 non-null int64\n",
      "Median_Daily_Players     27755 non-null int64\n",
      "median_2weeks            27755 non-null int64\n",
      "Current_Price            27755 non-null float64\n",
      "Initial_Price            27755 non-null float64\n",
      "Discount_Percent         27755 non-null float64\n",
      "Daily_Players            27755 non-null int64\n",
      "Required_Age             27755 non-null float64\n",
      "Platforms                27755 non-null object\n",
      "Single_or_Multiplayer    27755 non-null object\n",
      "Has_Game_Trailer         27755 non-null int64\n",
      "Has_Achievements         27755 non-null int64\n",
      "release_year             27755 non-null float64\n",
      "Self_published           27755 non-null int64\n",
      "Is_Indie                 27755 non-null int64\n",
      "Game_Genre               27755 non-null object\n",
      "Number_Languages         27755 non-null int64\n",
      "Number_Platforms         27755 non-null int64\n",
      "dtypes: float64(5), int64(14), object(3)\n",
      "memory usage: 4.9+ MB\n"
     ]
    }
   ],
   "source": [
    "stm_df_features.info()"
   ]
  },
  {
   "cell_type": "code",
   "execution_count": 174,
   "metadata": {},
   "outputs": [],
   "source": [
    "# Exporting the cleaned file to csv.\n",
    "\n",
    "stm_df_features.to_csv('steam_cleaned_data.csv')"
   ]
  },
  {
   "cell_type": "markdown",
   "metadata": {},
   "source": [
    "# -------------------------Cleaned File Exported to CSV----------------------------"
   ]
  },
  {
   "cell_type": "markdown",
   "metadata": {},
   "source": [
    "Cleaned filed exported.  This is the end of this notebook.  Process continues in Project_2_Mark_Dziuban_EDA."
   ]
  },
  {
   "cell_type": "code",
   "execution_count": null,
   "metadata": {},
   "outputs": [],
   "source": []
  }
 ],
 "metadata": {
  "kernelspec": {
   "display_name": "Python 3",
   "language": "python",
   "name": "python3"
  },
  "language_info": {
   "codemirror_mode": {
    "name": "ipython",
    "version": 3
   },
   "file_extension": ".py",
   "mimetype": "text/x-python",
   "name": "python",
   "nbconvert_exporter": "python",
   "pygments_lexer": "ipython3",
   "version": "3.7.4"
  }
 },
 "nbformat": 4,
 "nbformat_minor": 2
}
